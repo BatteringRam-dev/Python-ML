{
 "cells": [
  {
   "cell_type": "code",
   "execution_count": 2,
   "id": "2f30aea9",
   "metadata": {},
   "outputs": [],
   "source": [
    "import numpy as np\n",
    "import pandas as pd\n",
    "\n",
    "from sklearn import svm\n",
    "\n",
    "# visual your data\n",
    "import matplotlib.pyplot as plt\n",
    "import seaborn as sns; sns.set(font_scale=1.2)\n",
    "\n",
    "%matplotlib inline"
   ]
  },
  {
   "cell_type": "code",
   "execution_count": 3,
   "id": "f156aa6c",
   "metadata": {},
   "outputs": [
    {
     "name": "stdout",
     "output_type": "stream",
     "text": [
      "     Type  Flour  Milk  Sugar  Butter  Egg  Baking Powder  Vannila  Salt\n",
      "0  Muffin     55    28      3       7    5              2        0     0\n",
      "1  Muffin     47    24     12       6    9              1        0     0\n",
      "2  Muffin     47    23     18       6    4              1        0     0\n",
      "3  Muffin     45    11     17      17    8              1        0     0\n",
      "4  Muffin     50    25     12       6    5              2        1     0\n"
     ]
    }
   ],
   "source": [
    "recipes = pd.read_csv('Cupcake vs Muffins.csv')\n",
    "print(recipes.head())"
   ]
  },
  {
   "cell_type": "code",
   "execution_count": 4,
   "id": "0b72af91",
   "metadata": {},
   "outputs": [
    {
     "data": {
      "image/png": "[encoded data removed]",
      "text/plain": [
       "<Figure size 464.77x360 with 1 Axes>"
      ]
     },
     "metadata": {
      "needs_background": "light"
     },
     "output_type": "display_data"
    }
   ],
   "source": [
    "# plot our data\n",
    "# best settings for seaborn plot \n",
    "# some of the seaborn commands is not necessary\n",
    "sns.lmplot('Flour', 'Sugar', data=recipes, hue='Type', \n",
    "          palette='Set1', fit_reg=False, scatter_kws={\"s\": 70});"
   ]
  },
  {
   "cell_type": "code",
   "execution_count": 8,
   "id": "29bed06a",
   "metadata": {},
   "outputs": [
    {
     "name": "stdout",
     "output_type": "stream",
     "text": [
      "[[55  3]\n",
      " [47 12]\n",
      " [47 18]\n",
      " [45 17]\n",
      " [50 12]\n",
      " [55  3]\n",
      " [54  7]\n",
      " [47 10]\n",
      " [50 17]\n",
      " [50 17]\n",
      " [39 26]\n",
      " [42 16]\n",
      " [34 20]\n",
      " [39 17]\n",
      " [38 23]\n",
      " [42 25]\n",
      " [36 21]\n",
      " [38 31]\n",
      " [36 24]\n",
      " [34 23]]\n"
     ]
    }
   ],
   "source": [
    "# format our data\n",
    "type_label = np.where(recipes['Type']=='Muffin', 0, 1) # setting our Muffin/Cupcake value to numeric\n",
    "recipe_features = recipes.columns.values[1:].tolist() # printing all the columns except Type \n",
    "recipe_features\n",
    "ingredients = recipes[['Flour', 'Sugar']].values # printing out the values of Flour and Sugar\n",
    "print(ingredients)"
   ]
  },
  {
   "cell_type": "code",
   "execution_count": 11,
   "id": "f12b3730",
   "metadata": {},
   "outputs": [
    {
     "data": {
      "text/plain": [
       "SVC(kernel='linear')"
      ]
     },
     "execution_count": 11,
     "metadata": {},
     "output_type": "execute_result"
    }
   ],
   "source": [
    "# fit model \n",
    "model = svm.SVC(kernel='linear') # using SVC=Support Vector Classification cause we will be getting output as yes or no\n",
    "model.fit(ingredients, type_label)"
   ]
  },
  {
   "cell_type": "code",
   "execution_count": 14,
   "id": "7f942361",
   "metadata": {},
   "outputs": [
    {
     "name": "stdout",
     "output_type": "stream",
     "text": [
      "You're looking at a Muffin recipe! \n"
     ]
    }
   ],
   "source": [
    "# create a function to predict muffin or cupcake\n",
    "def muffin_or_cupcake(flour, sugar):\n",
    "    if (model.predict([[flour, sugar]]))==0:\n",
    "         print(\"You're looking at a Muffin recipe! \")\n",
    "    else:\n",
    "        print(\"You're looking at a Cupcake recipe! \")\n",
    "        \n",
    "\n",
    "# predict\n",
    "muffin_or_cupcake(50, 20)    "
   ]
  }
 ],
 "metadata": {
  "kernelspec": {
   "display_name": "Python 3 (ipykernel)",
   "language": "python",
   "name": "python3"
  },
  "language_info": {
   "codemirror_mode": {
    "name": "ipython",
    "version": 3
   },
   "file_extension": ".py",
   "mimetype": "text/x-python",
   "name": "python",
   "nbconvert_exporter": "python",
   "pygments_lexer": "ipython3",
   "version": "3.8.10"
  }
 },
 "nbformat": 4,
 "nbformat_minor": 5
}
